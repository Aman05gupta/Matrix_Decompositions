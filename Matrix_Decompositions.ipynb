{
  "nbformat": 4,
  "nbformat_minor": 0,
  "metadata": {
    "colab": {
      "provenance": [],
      "authorship_tag": "ABX9TyPNeiV/JH2LBsCvQzIn0dJf",
      "include_colab_link": true
    },
    "kernelspec": {
      "name": "python3",
      "display_name": "Python 3"
    },
    "language_info": {
      "name": "python"
    }
  },
  "cells": [
    {
      "cell_type": "markdown",
      "metadata": {
        "id": "view-in-github",
        "colab_type": "text"
      },
      "source": [
        "<a href=\"https://colab.research.google.com/github/Aman05gupta/Matrix_Decompositions/blob/main/Matrix_Decompositions.ipynb\" target=\"_parent\"><img src=\"https://colab.research.google.com/assets/colab-badge.svg\" alt=\"Open In Colab\"/></a>"
      ]
    },
    {
      "cell_type": "code",
      "execution_count": null,
      "metadata": {
        "id": "dFaUnSCMzIVl"
      },
      "outputs": [],
      "source": []
    },
    {
      "cell_type": "markdown",
      "source": [
        "# Eigenvalue\n",
        "For a square matrix A, a scalar λ is an eigenvalue if there exists a non-zero vector v (called an eigenvector) such that Av=λv.\n",
        "\n",
        "\n",
        "\n",
        "---\n",
        "\n",
        "\n",
        "The eigenvalues of a matrix\n",
        "\n",
        "A are found by solving the characteristic equation:  det(A−λI)=0\n",
        "\n",
        "where\n",
        "\n",
        "I is the identity matrix of the same dimension as A.\n",
        "\n",
        "\n",
        "---\n",
        "\n",
        "\n",
        "# Eigenvector:\n",
        "A non-zero vector v is an eigenvector of a matrix A if there exists a scalar λ (called an eigenvalue) such that Av=λv"
      ],
      "metadata": {
        "id": "7dy-A5sXzSG1"
      }
    },
    {
      "cell_type": "code",
      "source": [
        "import numpy as np\n"
      ],
      "metadata": {
        "id": "baa0G8ktzb6s"
      },
      "execution_count": 1,
      "outputs": []
    },
    {
      "cell_type": "code",
      "source": [
        "# Define the matrix A\n",
        "A = np.array([[4, 1], [2, 3]])"
      ],
      "metadata": {
        "id": "lBE-u3VW0YxK"
      },
      "execution_count": 14,
      "outputs": []
    },
    {
      "cell_type": "code",
      "source": [
        "# Compute eigenvalues and eigenvectors\n",
        "eigenvalues, eigenvectors = np.linalg.eig(A)\n"
      ],
      "metadata": {
        "id": "wG3dTXPD0e5b"
      },
      "execution_count": 17,
      "outputs": []
    },
    {
      "cell_type": "code",
      "source": [
        "print(\"Eigenvalues:\", eigenvalues)"
      ],
      "metadata": {
        "colab": {
          "base_uri": "https://localhost:8080/"
        },
        "id": "xMLCO4QW0hy2",
        "outputId": "1b211974-3137-4f45-aa55-d57824dee310"
      },
      "execution_count": 18,
      "outputs": [
        {
          "output_type": "stream",
          "name": "stdout",
          "text": [
            "Eigenvalues: [5. 2.]\n"
          ]
        }
      ]
    },
    {
      "cell_type": "code",
      "source": [
        "print(\"Eigenvectors:\\n\", eigenvectors)\n"
      ],
      "metadata": {
        "colab": {
          "base_uri": "https://localhost:8080/"
        },
        "id": "letyC35i1V_a",
        "outputId": "424b5627-6234-42dd-b9fa-5829d1518f5b"
      },
      "execution_count": 20,
      "outputs": [
        {
          "output_type": "stream",
          "name": "stdout",
          "text": [
            "Eigenvectors:\n",
            " [[ 0.70710678 -0.4472136 ]\n",
            " [ 0.70710678  0.89442719]]\n"
          ]
        }
      ]
    },
    {
      "cell_type": "code",
      "source": [
        "# Define the matrix A\n",
        "A = np.array([[6, 2], [2, 3]])"
      ],
      "metadata": {
        "id": "kZlgFIzpzqjU"
      },
      "execution_count": 30,
      "outputs": []
    },
    {
      "cell_type": "code",
      "source": [
        "# Compute eigenvalues and eigenvectors\n",
        "eigenvalues, eigenvectors = np.linalg.eig(A)\n"
      ],
      "metadata": {
        "id": "C7A7TD1p11XP"
      },
      "execution_count": 31,
      "outputs": []
    },
    {
      "cell_type": "code",
      "source": [
        "print(\"Eigenvalues:\", eigenvalues)\n",
        "print(\"Eigenvectors:\")\n",
        "print(eigenvectors)\n"
      ],
      "metadata": {
        "colab": {
          "base_uri": "https://localhost:8080/"
        },
        "id": "WEFyuoJv11ap",
        "outputId": "a02118d7-bc8e-4753-ced0-d8433de68a82"
      },
      "execution_count": 23,
      "outputs": [
        {
          "output_type": "stream",
          "name": "stdout",
          "text": [
            "Eigenvalues: [7. 2.]\n",
            "Eigenvectors:\n",
            "[[ 0.89442719 -0.4472136 ]\n",
            " [ 0.4472136   0.89442719]]\n"
          ]
        }
      ]
    },
    {
      "cell_type": "markdown",
      "source": [
        "## Verification"
      ],
      "metadata": {
        "id": "qwwm2neq2eMG"
      }
    },
    {
      "cell_type": "code",
      "source": [
        "# Verify the first eigenpair\n",
        "v1 = eigenvectors[:, 0]\n",
        "lambda1 = eigenvalues[0]\n",
        "print(\"A @ v1:\", A @ v1)\n",
        "print(\"lambda1 * v1:\", lambda1 * v1)\n",
        "\n",
        "\n"
      ],
      "metadata": {
        "colab": {
          "base_uri": "https://localhost:8080/"
        },
        "id": "uAs-lolV17jo",
        "outputId": "828c8f34-c05d-4093-fe4e-b21dc040b07a"
      },
      "execution_count": 33,
      "outputs": [
        {
          "output_type": "stream",
          "name": "stdout",
          "text": [
            "A @ v1: [6.26099034 3.13049517]\n",
            "lambda1 * v1: [6.26099034 3.13049517]\n"
          ]
        }
      ]
    },
    {
      "cell_type": "code",
      "source": [
        "# Verify the second eigenpair\n",
        "v2 = eigenvectors[:, 1]\n",
        "lambda2 = eigenvalues[1]\n",
        "print(\"A @ v2:\", A @ v2)\n",
        "print(\"lambda2 * v2:\", lambda2 * v2)"
      ],
      "metadata": {
        "colab": {
          "base_uri": "https://localhost:8080/"
        },
        "id": "pl7K8XB22i1p",
        "outputId": "07bbf25b-4fbe-47fb-a52d-a755dc188100"
      },
      "execution_count": 34,
      "outputs": [
        {
          "output_type": "stream",
          "name": "stdout",
          "text": [
            "A @ v2: [-0.89442719  1.78885438]\n",
            "lambda2 * v2: [-0.89442719  1.78885438]\n"
          ]
        }
      ]
    },
    {
      "cell_type": "code",
      "source": [],
      "metadata": {
        "id": "aL_T4CZ32l28"
      },
      "execution_count": null,
      "outputs": []
    },
    {
      "cell_type": "markdown",
      "source": [
        "# LU Decomposition\n",
        "LU decomposition factors a matrix A into the product of a lower triangular matrix 𝐿 and an upper triangular matrix 𝑈: 𝐴 = 𝐿𝑈\n",
        "\n",
        "\n",
        "---\n",
        "\n",
        "\n",
        "Application: Solving systems of linear equations efficiently"
      ],
      "metadata": {
        "id": "rARIMld62_b_"
      }
    },
    {
      "cell_type": "code",
      "source": [
        "import scipy.linalg"
      ],
      "metadata": {
        "id": "kQLbHJGz3g6U"
      },
      "execution_count": 36,
      "outputs": []
    },
    {
      "cell_type": "code",
      "source": [
        "# Define the matrix A\n",
        "A = np.array([[4, 3], [6, 3]])\n",
        "\n",
        "# Perform LU decomposition\n",
        "P, L, U = scipy.linalg.lu(A)\n",
        "\n",
        "print(\"L:\")\n",
        "print(L)\n",
        "print(\"U:\")\n",
        "print(U)\n"
      ],
      "metadata": {
        "colab": {
          "base_uri": "https://localhost:8080/"
        },
        "id": "4uHNPFdY3Q9F",
        "outputId": "5398b0eb-a4e7-479a-a031-a2e97113c8e4"
      },
      "execution_count": 37,
      "outputs": [
        {
          "output_type": "stream",
          "name": "stdout",
          "text": [
            "L:\n",
            "[[1.         0.        ]\n",
            " [0.66666667 1.        ]]\n",
            "U:\n",
            "[[6. 3.]\n",
            " [0. 1.]]\n"
          ]
        }
      ]
    },
    {
      "cell_type": "code",
      "source": [],
      "metadata": {
        "id": "lrrho3Ah3Vme"
      },
      "execution_count": null,
      "outputs": []
    },
    {
      "cell_type": "markdown",
      "source": [
        "# QR Decomposition\n",
        "QR decomposition factors a matrix 𝐴 into the product of an orthogonal matrix 𝑄 and an upper triangular matrix 𝑅: 𝐴 = 𝑄𝑅\n",
        "\n",
        "\n",
        "---\n",
        "\n",
        "\n",
        "\n",
        "Application: Finding least squares solutions, eigenvalue calculations."
      ],
      "metadata": {
        "id": "q20DVVgR3ske"
      }
    },
    {
      "cell_type": "code",
      "source": [
        "# Define the matrix A\n",
        "A = np.array([[1, -1, 4], [1, 4, -2], [1, 4, 2]])\n",
        "\n",
        "# Perform QR decomposition\n",
        "Q, R = np.linalg.qr(A)\n",
        "\n",
        "print(\"Q:\")\n",
        "print(Q)\n",
        "print(\"R:\")\n",
        "print(R)\n"
      ],
      "metadata": {
        "colab": {
          "base_uri": "https://localhost:8080/"
        },
        "id": "xksg-xgD33P_",
        "outputId": "b07c5480-b155-4e68-fa9d-aa0f7394d3e7"
      },
      "execution_count": 38,
      "outputs": [
        {
          "output_type": "stream",
          "name": "stdout",
          "text": [
            "Q:\n",
            "[[-5.77350269e-01  8.16496581e-01 -2.21595527e-16]\n",
            " [-5.77350269e-01 -4.08248290e-01 -7.07106781e-01]\n",
            " [-5.77350269e-01 -4.08248290e-01  7.07106781e-01]]\n",
            "R:\n",
            "[[-1.73205081 -4.04145188 -2.30940108]\n",
            " [ 0.         -4.0824829   3.26598632]\n",
            " [ 0.          0.          2.82842712]]\n"
          ]
        }
      ]
    },
    {
      "cell_type": "code",
      "source": [],
      "metadata": {
        "id": "FFj9BXD037sq"
      },
      "execution_count": null,
      "outputs": []
    },
    {
      "cell_type": "markdown",
      "source": [
        "# Eigenvalue Decomposition (Eigendecomposition)\n",
        "Eigendecomposition factors a matrix\n",
        "𝐴 into the product of a matrix of eigenvectors 𝑉 and a diagonal matrix Λ of eigenvalues:\n",
        "\n",
        "\n",
        "---\n",
        "\n",
        "\n",
        "Application: Finding eigenvalues and eigenvectors."
      ],
      "metadata": {
        "id": "hWdmmHzi4Adl"
      }
    },
    {
      "cell_type": "code",
      "source": [
        "# Define the matrix A\n",
        "A = np.array([[6, 2], [2, 3]])\n",
        "\n",
        "# Perform eigendecomposition\n",
        "eigenvalues, eigenvectors = np.linalg.eig(A)\n",
        "\n",
        "print(\"Eigenvalues:\", eigenvalues)\n",
        "print(\"Eigenvectors:\")\n",
        "print(eigenvectors)\n"
      ],
      "metadata": {
        "colab": {
          "base_uri": "https://localhost:8080/"
        },
        "id": "QXmzcFBs4RqW",
        "outputId": "4a56b5cd-640c-4b37-97c1-9a06a3663985"
      },
      "execution_count": 39,
      "outputs": [
        {
          "output_type": "stream",
          "name": "stdout",
          "text": [
            "Eigenvalues: [7. 2.]\n",
            "Eigenvectors:\n",
            "[[ 0.89442719 -0.4472136 ]\n",
            " [ 0.4472136   0.89442719]]\n"
          ]
        }
      ]
    },
    {
      "cell_type": "code",
      "source": [],
      "metadata": {
        "id": "oGkm1CGt4dDa"
      },
      "execution_count": null,
      "outputs": []
    },
    {
      "cell_type": "markdown",
      "source": [
        "# Singular Value Decomposition (SVD)\n",
        "SVD factors a matrix\n",
        "𝐴 into the product of three matrices 𝑈, Σ, and 𝑉𝑇:\n",
        "\n",
        "A=UΣV\n",
        "where\n",
        "𝑈 and 𝑉 are orthogonal matrices, and  Σ is a diagonal matrix of singular values.\n",
        "\n",
        "\n",
        "---\n",
        "\n",
        "\n",
        "Application: Dimensionality reduction, image compression, solving linear least squares problems."
      ],
      "metadata": {
        "id": "6nEN_hvE4hta"
      }
    },
    {
      "cell_type": "code",
      "source": [
        "# Define the matrix A\n",
        "A = np.array([[1, 2], [3, 4], [5, 6]])\n",
        "\n",
        "# Perform SVD\n",
        "U, S, VT = np.linalg.svd(A)\n",
        "\n",
        "print(\"U:\")\n",
        "print(U)\n",
        "print(\"S (singular values):\")\n",
        "print(S)\n",
        "print(\"VT (transpose of V):\")\n",
        "print(VT)\n"
      ],
      "metadata": {
        "colab": {
          "base_uri": "https://localhost:8080/"
        },
        "id": "eepEo8iJ5AaN",
        "outputId": "40fcf430-4188-4f71-e0f5-dbaa669be1e7"
      },
      "execution_count": 40,
      "outputs": [
        {
          "output_type": "stream",
          "name": "stdout",
          "text": [
            "U:\n",
            "[[-0.2298477   0.88346102  0.40824829]\n",
            " [-0.52474482  0.24078249 -0.81649658]\n",
            " [-0.81964194 -0.40189603  0.40824829]]\n",
            "S (singular values):\n",
            "[9.52551809 0.51430058]\n",
            "VT (transpose of V):\n",
            "[[-0.61962948 -0.78489445]\n",
            " [-0.78489445  0.61962948]]\n"
          ]
        }
      ]
    },
    {
      "cell_type": "code",
      "source": [],
      "metadata": {
        "id": "jPrB_3N95ERl"
      },
      "execution_count": null,
      "outputs": []
    },
    {
      "cell_type": "markdown",
      "source": [
        "# Cholesky Decomposition\n",
        "Cholesky decomposition factors a symmetric positive definite matrix\n",
        "𝐴 into the product of a lower triangular matrix 𝐿 and its transpose:\n",
        "𝐴 =𝐿𝐿𝑇\n",
        "\n",
        "---\n",
        "\n",
        "\n",
        "\n",
        "Application: Solving linear equations involving positive definite matrices, simulating multivariate normal distributions."
      ],
      "metadata": {
        "id": "86A98O-Y5NHe"
      }
    },
    {
      "cell_type": "code",
      "source": [
        "# Define the matrix A (symmetric positive definite)\n",
        "A = np.array([[9, 3, 6], [3, 14, 2], [6, 2, 16]])\n",
        "\n",
        "# Perform Cholesky decomposition\n",
        "L = np.linalg.cholesky(A)\n",
        "\n",
        "print(\"L:\")\n",
        "print(L)\n"
      ],
      "metadata": {
        "colab": {
          "base_uri": "https://localhost:8080/"
        },
        "id": "VHVWYv_k5hV9",
        "outputId": "b015fbc8-36b6-4a16-f847-e8a24d50c624"
      },
      "execution_count": 41,
      "outputs": [
        {
          "output_type": "stream",
          "name": "stdout",
          "text": [
            "L:\n",
            "[[3.         0.         0.        ]\n",
            " [1.         3.60555128 0.        ]\n",
            " [2.         0.         3.46410162]]\n"
          ]
        }
      ]
    },
    {
      "cell_type": "code",
      "source": [],
      "metadata": {
        "id": "iw7w5itM5lBW"
      },
      "execution_count": null,
      "outputs": []
    }
  ]
}